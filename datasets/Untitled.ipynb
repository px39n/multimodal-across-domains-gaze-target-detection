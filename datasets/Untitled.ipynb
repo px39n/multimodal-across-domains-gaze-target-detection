{
 "cells": [
  {
   "cell_type": "code",
   "execution_count": 5,
   "id": "f3251f02-39e7-42e2-9c12-88eb99b368c0",
   "metadata": {},
   "outputs": [],
   "source": [
    "import os\n",
    "import sys\n",
    "#TODO: add the path to MiDaS if not running the script from within the folder\n",
    "\n",
    "#sys.path.append(r'C:\\Users\\isxzl\\OneDrive\\Code\\MiDaS')\n",
    "sys.path.append(r'..')\n",
    "import glob\n",
    "import torch\n",
    "\n",
    "import cv2\n",
    "from tqdm import tqdm\n",
    "from torchvision.transforms import Compose\n",
    "from midas.dpt_depth import DPTDepthModel\n",
    "from midas.transforms import Resize, NormalizeImage, PrepareForNet\n",
    "from transformers import AutoImageProcessor, DPTForDepthEstimation\n",
    "import torch\n",
    "import numpy as np\n",
    "import matplotlib\n",
    "from torchvision import transforms\n",
    "import utils"
   ]
  },
  {
   "cell_type": "code",
   "execution_count": null,
   "id": "795e515d-4075-4f5e-9306-e1494bfe4957",
   "metadata": {},
   "outputs": [],
   "source": [
    "OneDrive/Code/multimodal-across-domains-gaze-target-detection/midas"
   ]
  }
 ],
 "metadata": {
  "kernelspec": {
   "display_name": "Python 3 (ipykernel)",
   "language": "python",
   "name": "python3"
  },
  "language_info": {
   "codemirror_mode": {
    "name": "ipython",
    "version": 3
   },
   "file_extension": ".py",
   "mimetype": "text/x-python",
   "name": "python",
   "nbconvert_exporter": "python",
   "pygments_lexer": "ipython3",
   "version": "3.10.13"
  }
 },
 "nbformat": 4,
 "nbformat_minor": 5
}
